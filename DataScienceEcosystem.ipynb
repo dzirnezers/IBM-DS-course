{
 "cells": [
  {
   "cell_type": "markdown",
   "id": "ba0db724-bab8-4539-9fee-cb64a2429d57",
   "metadata": {},
   "source": [
    "# Data Science Tools and Ecosystem"
   ]
  },
  {
   "cell_type": "markdown",
   "id": "eef9473a-9747-4348-9621-fe4a5c9be81f",
   "metadata": {},
   "source": [
    "In this notebook, Data Science Tools and Ecosystem are summarized."
   ]
  },
  {
   "cell_type": "markdown",
   "id": "ad0d0291-b49f-4537-8473-d7a77553a9ff",
   "metadata": {},
   "source": [
    "**Objectives:**\n",
    "\n",
    "+ List some of the popular languages that Data Scientists use\n",
    "+ List some of the commonly used libraries used by Data Scientists\n",
    "+ Name three development environment open source tools used in data science\n",
    "+ Demonstrates the ability to create markups\n",
    "+ Demonstrates the ability to create simple expressions"
   ]
  },
  {
   "cell_type": "markdown",
   "id": "24703bff-6b14-4a48-b8bb-ea9616a097d5",
   "metadata": {},
   "source": [
    "Some of the popular languages that Data Scientists use are:\n",
    "1. R\n",
    "2. Python\n",
    "3. SQL\n",
    "4. Julia\n",
    "5. Java"
   ]
  },
  {
   "cell_type": "markdown",
   "id": "42ced573-72dc-499c-83af-c7ef1af7758b",
   "metadata": {},
   "source": [
    "Some of the commonly used libraries used by Data Scientists include:\n",
    "1. Pandas\n",
    "2. NumPy\n",
    "3. Matplotlib\n",
    "4. Seborn\n",
    "5. Scikit-learn\n",
    "6. Keras\n",
    "7. TensorFlow\n",
    "8. Pytorch"
   ]
  },
  {
   "attachments": {},
   "cell_type": "markdown",
   "id": "eeb19ae1-0ed2-4a80-8237-066e8bbd7d9c",
   "metadata": {},
   "source": [
    "| Data Science Tools |\n",
    "| :-----------|\n",
    "| Jupiter Notebooks |\n",
    "| R Sudio |\n",
    "| Apache Zeppelin |"
   ]
  },
  {
   "cell_type": "markdown",
   "id": "4b48fdca-443f-4ff7-b209-785ff48dce69",
   "metadata": {},
   "source": [
    "### Below are a few examples of evaluating arithmetic expressions in Python"
   ]
  },
  {
   "cell_type": "code",
   "execution_count": 37,
   "id": "d59302e8-7b8e-44a1-a797-fc15b8f4ddeb",
   "metadata": {},
   "outputs": [
    {
     "data": {
      "text/plain": [
       "17"
      ]
     },
     "execution_count": 37,
     "metadata": {},
     "output_type": "execute_result"
    }
   ],
   "source": [
    "# This a simple arithmetic expression to mutiply then add integers\n",
    "\n",
    "(3*4)+5"
   ]
  },
  {
   "cell_type": "code",
   "execution_count": 38,
   "id": "faba2949-1be4-4e25-a756-b95d67212bcd",
   "metadata": {},
   "outputs": [
    {
     "data": {
      "text/plain": [
       "3.33"
      ]
     },
     "execution_count": 38,
     "metadata": {},
     "output_type": "execute_result"
    }
   ],
   "source": [
    "# This will convert 200 minutes to hours by diving by 60 and round the result to two digits\n",
    "\n",
    "round(200 / 60, 2)"
   ]
  },
  {
   "cell_type": "markdown",
   "id": "27673bab-ee3a-4ad9-9ca4-3db9b5094471",
   "metadata": {},
   "source": [
    "## Author\n",
    "Vilnis Zakrevskis"
   ]
  },
  {
   "cell_type": "code",
   "execution_count": null,
   "id": "e5a2cc70-a04d-43f1-a338-2c4a95a07521",
   "metadata": {},
   "outputs": [],
   "source": []
  }
 ],
 "metadata": {
  "kernelspec": {
   "display_name": "anaconda-panel-2023.05-py310",
   "language": "python",
   "name": "conda-env-anaconda-panel-2023.05-py310-py"
  },
  "language_info": {
   "codemirror_mode": {
    "name": "ipython",
    "version": 3
   },
   "file_extension": ".py",
   "mimetype": "text/x-python",
   "name": "python",
   "nbconvert_exporter": "python",
   "pygments_lexer": "ipython3",
   "version": "3.11.5"
  }
 },
 "nbformat": 4,
 "nbformat_minor": 5
}
